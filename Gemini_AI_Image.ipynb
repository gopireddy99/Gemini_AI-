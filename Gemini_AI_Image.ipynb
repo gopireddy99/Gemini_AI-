{
  "nbformat": 4,
  "nbformat_minor": 0,
  "metadata": {
    "colab": {
      "provenance": [],
      "mount_file_id": "1Y_TWs4XQ7fxhDwglN0-roNcM8YiCsGFr",
      "authorship_tag": "ABX9TyN/qTN6gDRhdo/FmVqicNbM",
      "include_colab_link": true
    },
    "kernelspec": {
      "name": "python3",
      "display_name": "Python 3"
    },
    "language_info": {
      "name": "python"
    }
  },
  "cells": [
    {
      "cell_type": "markdown",
      "metadata": {
        "id": "view-in-github",
        "colab_type": "text"
      },
      "source": [
        "<a href=\"https://colab.research.google.com/github/gopireddy99/Gemini_AI-/blob/main/Gemini_AI_Image.ipynb\" target=\"_parent\"><img src=\"https://colab.research.google.com/assets/colab-badge.svg\" alt=\"Open In Colab\"/></a>"
      ]
    },
    {
      "cell_type": "code",
      "source": [
        "%pip install -U -q \"google-generativeai>=0.7.2\""
      ],
      "metadata": {
        "id": "yXU06nQqfzjP"
      },
      "execution_count": 17,
      "outputs": []
    },
    {
      "cell_type": "code",
      "execution_count": 19,
      "metadata": {
        "id": "i-TwV5bRZru0"
      },
      "outputs": [],
      "source": [
        "import google.generativeai as genai\n",
        "from google.colab import userdata\n",
        "\n",
        "GOOGLE_API_I = userdata.get('GOOGLE_API_KEY')\n",
        "genai.configure(api_key=GOOGLE_API_I)"
      ]
    },
    {
      "cell_type": "code",
      "source": [
        "import pathlib\n",
        "import textwrap\n",
        "from IPython.display import display, Markdown\n",
        "def to_markdown(text):\n",
        "  text = text.replace('•', '  *')\n",
        "  return Markdown(textwrap.indent(text, '> ', predicate=lambda _: True))"
      ],
      "metadata": {
        "id": "KrEnw8CNZutt"
      },
      "execution_count": 20,
      "outputs": []
    },
    {
      "cell_type": "code",
      "source": [
        "import PIL.Image\n",
        "import google.generativeai as genai # Import google.generativeai and assign it to genai\n",
        "\n",
        "iimg = PIL.Image.open('/content/drive/MyDrive/data/image1.jpg')\n",
        "img = iimg\n",
        "model = genai.GenerativeModel('models/gemini-2.0-flash') # Now genai is defined and can be used.\n",
        "response = model.generate_content([\"write a short, engaging blog post based on this picture.It should include a description of the meal in the photo and talk about my journey\",img],stream=True)\n",
        "\n",
        "response.resolve()\n",
        "\n",
        "response.resolve()"
      ],
      "metadata": {
        "id": "DB-5-DzDaR4J"
      },
      "execution_count": 22,
      "outputs": []
    },
    {
      "cell_type": "code",
      "source": [
        "to_markdown(response.text)"
      ],
      "metadata": {
        "colab": {
          "base_uri": "https://localhost:8080/",
          "height": 385
        },
        "id": "DLHQ-LtpabsS",
        "outputId": "4b60522f-480e-410d-82fa-61d2b02bddda"
      },
      "execution_count": 23,
      "outputs": [
        {
          "output_type": "execute_result",
          "data": {
            "text/plain": [
              "<IPython.core.display.Markdown object>"
            ],
            "text/markdown": "> Okay, here's a blog post inspired by the image you provided:\n> \n> ## From Takeout to Take-Charge: My Meal Prep Journey\n> \n> Okay, let's be honest. For the longest time, \"healthy eating\" felt like a chore. I was stuck in a rut of convenience, which mostly translated to ordering takeout more often than I’d like to admit. My energy levels were all over the place, and I knew I needed to make a change, but the thought of spending hours cooking and cleaning was daunting.\n> \n> Then, I stumbled upon the idea of meal prepping. It seemed intimidating at first, but I decided to take the plunge, starting small, with only a couple meals a week. And guess what? It's a total game changer!\n> \n> Take a look at my latest creation: **Chicken Stir-fry Rice Bowls!**  Each container is packed with fluffy white rice, colorful stir-fried red bell peppers and carrots, tender broccoli florets and juicy chicken tossed in a savory, subtly sweet sauce. Not only is it bursting with flavor, but it's also packed with protein and vitamins to keep me fueled throughout the day.\n> \n> This colorful bowl represents more than just a tasty lunch. It symbolizes a shift in my lifestyle. Meal prepping has not only saved me time and money but also empowered me to take control of my health.  I'm more mindful about what I'm putting into my body, and I've noticed a huge difference in my energy levels and overall well-being.\n> \n> If you're looking to ditch the takeout habit and embrace a healthier lifestyle, I highly recommend giving meal prepping a try. Start with one or two meals a week and gradually increase as you get more comfortable.  Trust me, you won't regret it!\n> \n> What are your favorite meal prep recipes? Share them in the comments below!\n"
          },
          "metadata": {},
          "execution_count": 23
        }
      ]
    },
    {
      "cell_type": "markdown",
      "source": [
        "# Generate an Image Caption"
      ],
      "metadata": {
        "id": "eIORG_8GeW9m"
      }
    },
    {
      "cell_type": "code",
      "source": [
        "response = model.generate_content([\"Generate an accurate caption for this image.\",img])\n",
        "print(response.text)"
      ],
      "metadata": {
        "colab": {
          "base_uri": "https://localhost:8080/",
          "height": 54
        },
        "id": "-HixUGqheVvY",
        "outputId": "24b7d8d5-91a9-4d4b-8628-828dc573614b"
      },
      "execution_count": 24,
      "outputs": [
        {
          "output_type": "stream",
          "name": "stdout",
          "text": [
            "Here are two glass food containers that have meals prepared inside them, with a pair of blue and white chopsticks on the table next to one of the containers. Each container is filled with rice, chicken, broccoli, and red peppers. Also in the image is a small white bowl filled with more rice and a bottle filled with a red liquid. The surface the containers are on is textured in a gray-white color.\n"
          ]
        }
      ]
    },
    {
      "cell_type": "code",
      "source": [
        "from PIL import Image\n",
        "image_path = \"/content/drive/MyDrive/data/girl.jpg\"\n",
        "image = Image.open(image_path)\n",
        "response = model.generate_content([\"Describe this image in detail.\",image])\n",
        "print(response.text)"
      ],
      "metadata": {
        "colab": {
          "base_uri": "https://localhost:8080/",
          "height": 89
        },
        "id": "y3JWyrG-gduV",
        "outputId": "53465ab0-9d12-4f5f-ead5-0f85889bf0b5"
      },
      "execution_count": 25,
      "outputs": [
        {
          "output_type": "stream",
          "name": "stdout",
          "text": [
            "Here is a description of the image:\n",
            "\n",
            "A woman with shoulder-length brown curly hair smiles and points to the left in the image. She has fair skin and is wearing a bright blue long-sleeve shirt with small, repeating patterns in a golden color. The shirt has a V-neck with small buttons at the top. Her arms are crossed, with her left arm extended and her index finger pointing. The background is plain white.\n"
          ]
        }
      ]
    },
    {
      "cell_type": "markdown",
      "source": [
        "# *Detect Emotions in an image*"
      ],
      "metadata": {
        "id": "NToxndJthZV8"
      }
    },
    {
      "cell_type": "code",
      "source": [
        "response = model.generate_content([\"what emotions can you detect in this image?\",image])\n",
        "print(response.text)"
      ],
      "metadata": {
        "colab": {
          "base_uri": "https://localhost:8080/",
          "height": 54
        },
        "id": "U-YqerCehBWF",
        "outputId": "d1d821d3-1ef9-43da-fc36-9ead34c58f9d"
      },
      "execution_count": 26,
      "outputs": [
        {
          "output_type": "stream",
          "name": "stdout",
          "text": [
            "In the image, I can detect the emotion of happiness. This is primarily conveyed through her smile. The act of pointing suggests that she might also be feeling helpful or informative.\n"
          ]
        }
      ]
    },
    {
      "cell_type": "code",
      "source": [],
      "metadata": {
        "id": "HDsOhmg_hsgF"
      },
      "execution_count": null,
      "outputs": []
    }
  ]
}