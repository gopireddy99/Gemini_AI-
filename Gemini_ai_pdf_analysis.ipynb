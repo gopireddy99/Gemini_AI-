{
  "nbformat": 4,
  "nbformat_minor": 0,
  "metadata": {
    "colab": {
      "provenance": [],
      "mount_file_id": "1LzZkX-Aaa69QcjvUR7UinnqjzZG0mW00",
      "authorship_tag": "ABX9TyMfyRh7Y3l2axo2PtBSA2Mc",
      "include_colab_link": true
    },
    "kernelspec": {
      "name": "python3",
      "display_name": "Python 3"
    },
    "language_info": {
      "name": "python"
    }
  },
  "cells": [
    {
      "cell_type": "markdown",
      "metadata": {
        "id": "view-in-github",
        "colab_type": "text"
      },
      "source": [
        "<a href=\"https://colab.research.google.com/github/gopireddy99/Gemini_AI-/blob/main/Gemini_ai_pdf_analysis.ipynb\" target=\"_parent\"><img src=\"https://colab.research.google.com/assets/colab-badge.svg\" alt=\"Open In Colab\"/></a>"
      ]
    },
    {
      "cell_type": "code",
      "execution_count": 1,
      "metadata": {
        "id": "Ia9mKx8ZN_7v"
      },
      "outputs": [],
      "source": [
        "import google.generativeai as genai\n",
        "from google.colab import userdata\n",
        "\n",
        "GOOGLE_API_KEY = userdata.get('GOOGLE_API_KEY')\n",
        "genai.configure(api_key = GOOGLE_API_KEY)"
      ]
    },
    {
      "cell_type": "code",
      "source": [
        "!pip install PyPDF2"
      ],
      "metadata": {
        "colab": {
          "base_uri": "https://localhost:8080/"
        },
        "id": "3Q6Gb82BOcLa",
        "outputId": "76fed83b-f03c-4b4e-cd3e-21ebcb8c2cc7"
      },
      "execution_count": 2,
      "outputs": [
        {
          "output_type": "stream",
          "name": "stdout",
          "text": [
            "Collecting PyPDF2\n",
            "  Downloading pypdf2-3.0.1-py3-none-any.whl.metadata (6.8 kB)\n",
            "Downloading pypdf2-3.0.1-py3-none-any.whl (232 kB)\n",
            "\u001b[?25l   \u001b[90m━━━━━━━━━━━━━━━━━━━━━━━━━━━━━━━━━━━━━━━━\u001b[0m \u001b[32m0.0/232.6 kB\u001b[0m \u001b[31m?\u001b[0m eta \u001b[36m-:--:--\u001b[0m\r\u001b[2K   \u001b[91m━━━━━━━━━━━━━━\u001b[0m\u001b[90m╺\u001b[0m\u001b[90m━━━━━━━━━━━━━━━━━━━━━━━━━\u001b[0m \u001b[32m81.9/232.6 kB\u001b[0m \u001b[31m2.9 MB/s\u001b[0m eta \u001b[36m0:00:01\u001b[0m\r\u001b[2K   \u001b[90m━━━━━━━━━━━━━━━━━━━━━━━━━━━━━━━━━━━━━━━━\u001b[0m \u001b[32m232.6/232.6 kB\u001b[0m \u001b[31m3.7 MB/s\u001b[0m eta \u001b[36m0:00:00\u001b[0m\n",
            "\u001b[?25hInstalling collected packages: PyPDF2\n",
            "Successfully installed PyPDF2-3.0.1\n"
          ]
        }
      ]
    },
    {
      "cell_type": "markdown",
      "source": [
        "**Extract Key Insights from Health Report**"
      ],
      "metadata": {
        "id": "j_rJHwa_O00U"
      }
    },
    {
      "cell_type": "code",
      "source": [
        "import PyPDF2\n",
        "def extract_text_from_pdf(pdf_path):\n",
        "    \"\"\"Extracts text from a given health report PDF using PyPDF2.\"\"\"\n",
        "    text = \"\"\n",
        "    with open(pdf_path, \"rb\") as file:\n",
        "        reader = PyPDF2.PdfReader(file)\n",
        "        for page in reader.pages:\n",
        "            text += page.extract_text() + \"\\n\"\n",
        "    return text"
      ],
      "metadata": {
        "id": "QZrbHCXMOo1x"
      },
      "execution_count": 3,
      "outputs": []
    },
    {
      "cell_type": "code",
      "source": [
        "def extract_health_insights(text):\n",
        "  \"\"\"Asks Gemini AI to extract key medical insights from the report.\"\"\"\n",
        "  model = genai.GenerativeModel(\"gemini-1.5-flash\")\n",
        "  prompt = f\"Extract key insights from the following health report:\\n\\n{text}\"\n",
        "  response = model.generate_content(prompt)\n",
        "  return response.text\n",
        "pdf_file = \"/content/drive/MyDrive/data/health_report.pdf\"\n",
        "extracted_text = extract_text_from_pdf(pdf_file)\n",
        "insights = extract_health_insights(extracted_text)\n",
        "print(\"Key Insights:\\n\", insights)"
      ],
      "metadata": {
        "colab": {
          "base_uri": "https://localhost:8080/",
          "height": 488
        },
        "id": "K-ydtJpSP9j-",
        "outputId": "157507f2-5a60-4547-bc77-e5c22c17ba55"
      },
      "execution_count": 5,
      "outputs": [
        {
          "output_type": "stream",
          "name": "stdout",
          "text": [
            "Key Insights:\n",
            " Key Insights from Mr. Kishan Goud's Health Report (MR2100003157):\n",
            "\n",
            "**Widal Test:**  Elevated titers for *Salmonella Typhi* \"O\" (1:160) and \"H\" (1:80) suggest a possible past or current typhoid infection.  The reference range is 1:20.  Paratyphoid titers are within the normal range.\n",
            "\n",
            "**Dengue Serology:** Negative results for Dengue NS1 antigen, IgG, and IgM antibodies indicate no current or recent dengue fever infection.\n",
            "\n",
            "**Erythrocyte Sedimentation Rate (ESR):** Elevated ESR (26 mm/hr in the first hour, 52 mm/hr in the second hour; reference range 0-8 mm/hr). This suggests an inflammatory process in the body.\n",
            "\n",
            "**Malaria Test:** Negative results for both *Plasmodium falciparum* and *Plasmodium vivax* rule out malaria.\n",
            "\n",
            "**Complete Blood Picture (CBC):**  All blood parameters (Hemoglobin, RBC, WBC, Platelets, PCV) are within normal limits, except for a slightly elevated ESR as noted above.  Differential count shows normal ranges for neutrophils, lymphocytes, eosinophils, monocytes, and basophils.  The peripheral blood smear shows normal RBCs and WBCs.\n",
            "\n",
            "**HbA1c:**  Within the normal non-diabetic range (5.4%; normal range 4-6%), indicating good blood sugar control.\n",
            "\n",
            "**Serum Creatinine:** Within the normal range (0.8 mg/dl; normal range 0.6 - 1.25 mg/dl), indicating normal kidney function.\n",
            "\n",
            "**Random Blood Glucose:**  The report does not provide the value.\n",
            "\n",
            "**Liver Function Test (LFT):**  All liver enzymes (bilirubin, alkaline phosphatase, SGOT, SGPT) and proteins (total protein, albumin, globulin) are within normal ranges.\n",
            "\n",
            "**Serum Electrolytes:** Sodium (122 mmol/l) is slightly low (normal range 135-146 mmol/l). Potassium and chloride are within the normal range.\n",
            "\n",
            "\n",
            "**Overall:** The report shows some signs of inflammation (elevated ESR) and slightly low sodium levels.  The elevated typhoid antibodies suggest a past or current infection.  However, other tests are negative for infections like dengue and malaria, and the other blood and chemistry tests appear relatively normal.  Further investigation may be needed to determine the cause of the elevated ESR and slightly low sodium.  The doctor (Krishna Prasad) should interpret these results in the context of the patient's clinical presentation and other medical history for a complete diagnosis.\n",
            "\n"
          ]
        }
      ]
    },
    {
      "cell_type": "markdown",
      "source": [
        "**Summarizes Health Report**"
      ],
      "metadata": {
        "id": "Vm4ypy0jTOQ4"
      }
    },
    {
      "cell_type": "code",
      "source": [
        "def summarize_health_report(text):\n",
        "  model = genai.GenerativeModel(\"gemini-1.5-flash\")\n",
        "  prompt = f\"Summarize the following health report in a concise manner:\\n\\n{text}\"\n",
        "  response = model.generate_content(prompt)\n",
        "  return response.text\n",
        "\n",
        "summary = summarize_health_report(extracted_text)\n",
        "print(\"Summary:\\n\", summary)"
      ],
      "metadata": {
        "colab": {
          "base_uri": "https://localhost:8080/",
          "height": 332
        },
        "id": "PDX8DINfRe4a",
        "outputId": "eec6b620-184e-4c3e-c101-18ba2194826e"
      },
      "execution_count": 6,
      "outputs": [
        {
          "output_type": "stream",
          "name": "stdout",
          "text": [
            "Summary:\n",
            " Mr. Kishan Goud's (MR2100003157) blood tests on 01/02/2021 showed:\n",
            "\n",
            "* **Widal Test:** Elevated titers for *Salmonella Typhi* \"O\" (1:160) and \"H\" (1:80), suggesting possible typhoid, though further investigation may be needed.  *S. Paratyphi* AH and BH were within the normal range.\n",
            "* **Dengue Serology:** Negative for NS1 antigen, IgG, and IgM.\n",
            "* **ESR:** Elevated (26 mm/hr 1st hour, 52 mm/hr 2nd hour), indicating inflammation.\n",
            "* **Malaria Test:** Negative for *Plasmodium falciparum* and *Plasmodium vivax*.\n",
            "* **Complete Blood Picture:**  Hemoglobin, RBC, WBC, and platelets within normal limits.  Differential count also within normal ranges.\n",
            "* **HbA1c:** 5.4%, within the normal non-diabetic range.\n",
            "* **Serum Creatinine:** 0.8 mg/dl, within the normal range.\n",
            "* **Random Blood Glucose:**  Result not provided.\n",
            "* **Liver Function Test:** All values within normal limits.\n",
            "* **Serum Electrolytes:** Sodium (122 mmol/l) slightly low; Potassium and Chloride within normal range.\n",
            "\n",
            "\n",
            "Overall, the results suggest possible typhoid infection, inflammation, and slightly low sodium levels.  Further clinical evaluation is recommended.\n",
            "\n"
          ]
        }
      ]
    },
    {
      "cell_type": "markdown",
      "source": [
        "**Detect Abnormal Lab Results**"
      ],
      "metadata": {
        "id": "SDheocYaUDwx"
      }
    },
    {
      "cell_type": "code",
      "source": [
        "def detect_abnormalities(text):\n",
        "  model = genai.GenerativeModel(\"gemini-1.5-flash\")\n",
        "  prompt = f\"Analyze the lab test results in the following health report and highlight any abnormal values:\\n\\n{text}\"\n",
        "  response = model.generate_content(prompt)\n",
        "  return response.text\n",
        "abnormalities = detect_abnormalities(extracted_text)\n",
        "print(\"Potential Abnormalities:\\n\", abnormalities)"
      ],
      "metadata": {
        "colab": {
          "base_uri": "https://localhost:8080/",
          "height": 419
        },
        "id": "Nixl_0woTCVY",
        "outputId": "1cf57d6d-9138-4801-e92f-0f0e9e3b3b19"
      },
      "execution_count": 7,
      "outputs": [
        {
          "output_type": "stream",
          "name": "stdout",
          "text": [
            "Potential Abnormalities:\n",
            " Based on the provided lab results, the following values are outside the given biological reference ranges, indicating potential abnormalities:\n",
            "\n",
            "\n",
            "* **Widal Test:**  S. Typhi \"O\" (1:160) and S. Typhi \"H\" (1:80) are significantly elevated above the reference range of 1:20. This suggests a possible *Salmonella typhi* infection (typhoid fever).  Further investigation and clinical correlation are necessary.\n",
            "\n",
            "* **ESR (Erythrocyte Sedimentation Rate):** Both the 1st hour (26 mm/hr) and 2nd hour (52 mm/hr) values are markedly elevated above the reference range (0-8 mm/hr for the 1st hour).  Elevated ESR indicates inflammation in the body, but isn't specific to any single disease. It could be related to the suspected typhoid, another infection, or an inflammatory condition.\n",
            "\n",
            "* **Serum Sodium:**  The serum sodium level (122 mmol/l) is below the reference range (135-146 mmol/l), indicating hyponatremia (low sodium). This is a significant finding and requires further medical attention.  The cause needs to be determined.\n",
            "\n",
            "* **Serum Chloride:** The serum chloride level (97 mmol/l) is slightly below the lower limit of the reference range (98-107 mmol/l). While this is a minor deviation, it warrants consideration in conjunction with the hyponatremia.\n",
            "\n",
            "\n",
            "**Values Within Normal Range but Potentially Relevant:**\n",
            "\n",
            "While the following values are within the reference ranges, they should be considered in the context of the abnormalities:\n",
            "\n",
            "* **Lymphocytes:**  While within the normal range (31%), slightly elevated lymphocytes can sometimes indicate an infection, though this is not conclusive on its own.\n",
            "\n",
            "\n",
            "**Important Note:**  This analysis is solely based on the provided lab results.  It is crucial to remember that lab results should always be interpreted in the context of a patient's complete medical history, physical examination, and other clinical findings.  This information should not be used for self-diagnosis or treatment.  A medical professional should be consulted for proper diagnosis and management.\n",
            "\n"
          ]
        }
      ]
    },
    {
      "cell_type": "markdown",
      "source": [
        "**Explain Medical Terms**"
      ],
      "metadata": {
        "id": "ZHsvui_aV13p"
      }
    },
    {
      "cell_type": "code",
      "source": [
        "def explain_medical_terms(text):\n",
        "  model = genai.GenerativeModel(\"gemini-1.5-flash\")\n",
        "  prompt = f\"Explain the medical terms in the following health report in the simple language:\\n\\n{text}\"\n",
        "  response = model.generate_content(prompt)\n",
        "  return response.text\n",
        "explanation = explain_medical_terms(extracted_text)\n",
        "print(\"Simplified Explanation:\\n\", explanation)"
      ],
      "metadata": {
        "colab": {
          "base_uri": "https://localhost:8080/",
          "height": 1000
        },
        "id": "pBnNqIl5Uw05",
        "outputId": "5d8d616f-4c5f-4af7-855e-6b5229b8a15c"
      },
      "execution_count": 8,
      "outputs": [
        {
          "output_type": "stream",
          "name": "stdout",
          "text": [
            "Simplified Explanation:\n",
            " This report shows the results of several blood tests performed on Mr. Kishan Goud. Let's break down each section:\n",
            "\n",
            "**1. WIDAL Test:** This test checks for antibodies against *Salmonella typhi* and *Salmonella paratyphi*, bacteria that cause typhoid fever and paratyphoid fever.  The numbers (e.g., 1:160) represent the dilution of the sample at which the antibodies were still detectable.  Higher numbers suggest a greater likelihood of infection.\n",
            "\n",
            "* **S. Typhi \"O\" 1:160:**  A relatively high titer suggesting possible past or present infection with *Salmonella typhi*.\n",
            "* **S. Typhi \"H\" 1:80:** A moderate titer, also suggesting possible past or present infection with *Salmonella typhi*.\n",
            "* **S. Paratyphi \"AH\" 1:20:**  Within the normal range, suggesting no evidence of infection with this type of bacteria.\n",
            "* **S. Paratyphi \"BH\" 1:20:** Within the normal range, suggesting no evidence of infection with this type of bacteria.\n",
            "\n",
            "**2. Dengue Serology:** This tests for dengue fever.\n",
            "\n",
            "* **Dengue NS1 Antigen:** Negative – No dengue virus detected.\n",
            "* **Dengue IgG:** Negative – No evidence of past dengue infection.\n",
            "* **Dengue IgM:** Negative – No evidence of recent dengue infection.\n",
            "\n",
            "**3. Erythrocyte Sedimentation Rate (ESR):** This measures how quickly red blood cells settle at the bottom of a test tube.  A faster rate (higher ESR) can indicate inflammation or infection in the body.\n",
            "\n",
            "* **ESR 1st Hour 26 mm/hr:** Elevated.\n",
            "* **ESR 2nd Hour 52 mm/hr:**  Significantly elevated.  This suggests the presence of inflammation in the body.  Further investigation is likely needed to determine the cause.\n",
            "\n",
            "**4. Rapid Malaria Test:** This is a quick test to detect malaria parasites.\n",
            "\n",
            "* **P.V Negative:** Negative for *Plasmodium vivax*, a type of malaria parasite.\n",
            "* **P.F Negative:** Negative for *Plasmodium falciparum*, another type of malaria parasite.\n",
            "\n",
            "**5. Complete Blood Picture (CBC):** This is a comprehensive test that analyzes different components of the blood.\n",
            "\n",
            "* **Hemoglobin (Hb):** 13.6 gms% (Within the normal range for males.) This measures the oxygen-carrying capacity of the blood.\n",
            "* **Red Blood Cells (RBC):** 4.3 mill/cumm (Slightly below the normal range.)\n",
            "* **White Blood Cells (WBC):** 7,200 cells/cumm (Within the normal range.) These fight infection.\n",
            "* **Platelet Count:** 2.0 lakhs/cumm (Within the normal range.)  These help with blood clotting.\n",
            "* **Packed Cell Volume (PCV):** 40.5% (Within the normal range.)  This indicates the percentage of red blood cells in the blood.\n",
            "* **Differential Count:** This breaks down the types of white blood cells. All values are within the normal ranges.\n",
            "* **Peripheral Blood Smear:**  The microscopic examination of the blood sample showed normal red blood cells, white blood cells within normal limits, and adequate platelets.\n",
            "\n",
            "**6. HbA1c:** This measures average blood sugar levels over the past 2-3 months. It's used to diagnose and monitor diabetes.\n",
            "\n",
            "* **HbA1c 5.4%:**  This is within the normal range, indicating good blood sugar control and no evidence of diabetes.\n",
            "\n",
            "**7. Serum Creatinine:** This test measures creatinine levels in the blood, an indicator of kidney function.\n",
            "\n",
            "* **Serum Creatinine 0.8 mg/dl:** Within the normal range, indicating good kidney function.\n",
            "\n",
            "**8. Random Blood Glucose:** This measures blood sugar levels at a specific point in time.\n",
            "\n",
            "* **Random Blood Glucose:**  The specific value is missing from the report.  However, the normal range is provided (60-170 mg/dl).\n",
            "\n",
            "**9. Liver Function Test (LFT):** This group of tests assesses the health of the liver.  All values are within normal limits except for the slightly elevated ESR which suggests underlying inflammation.\n",
            "\n",
            "* **Total Bilirubin, Direct Bilirubin, Indirect Bilirubin:** All within normal ranges, indicating normal liver function.\n",
            "* **Alkaline Phosphatase, SGOT (AST), SGPT (ALT):** All within normal ranges, indicating normal liver function.\n",
            "* **Total Protein, Albumin, Globulin, A/G Ratio:** All within normal ranges, indicating normal liver function.\n",
            "\n",
            "**10. Serum Electrolytes:** This tests measures the levels of important electrolytes (sodium, potassium, and chloride) in the blood.\n",
            "\n",
            "* **Serum Sodium, Serum Potassium, Serum Chloride:**  Sodium is slightly low, potassium and chloride are within the normal range.\n",
            "\n",
            "**Overall Summary:**\n",
            "\n",
            "The report shows mostly normal results except for the elevated ESR and slightly low sodium level. The elevated ESR suggests inflammation, and the slightly low sodium may warrant further investigation. The Widal test results suggest possible past or present infection with *Salmonella Typhi*, but this needs further clinical evaluation along with the patient’s symptoms and history.  The other tests rule out dengue and malaria. The results should be discussed with the physician, Dr. Krishna Prasad, for interpretation and further action.  The doctor will consider this data alongside the patient's symptoms and medical history to reach a diagnosis.\n",
            "\n"
          ]
        }
      ]
    },
    {
      "cell_type": "markdown",
      "source": [
        "**Ask Questions About the Report**"
      ],
      "metadata": {
        "id": "hX9knTZiWtGA"
      }
    },
    {
      "cell_type": "code",
      "source": [
        "def ask_gemini_about_report(text, question):\n",
        "  \"\"\"Allows users to ask questions about their health report.\"\"\"\n",
        "  model = genai.GenerativeModel(\"gemini-1.5-flash\")\n",
        "  prompt = f\"The following is a health report:\\n\\n{text}\\n\\nAnswer the following question based on the report:\\n\\n{question}\"\n",
        "  response = model.generate_content(prompt)\n",
        "  return response.text\n",
        "question = \"what is the patient's diagnosis?\"\n",
        "answer = ask_gemini_about_report(extracted_text, question)\n",
        "print(\"Answer:\\n\", answer)"
      ],
      "metadata": {
        "colab": {
          "base_uri": "https://localhost:8080/",
          "height": 89
        },
        "id": "Spf5Pjv1WivK",
        "outputId": "f4961219-d5ee-4180-ec98-757d400d8db6"
      },
      "execution_count": 13,
      "outputs": [
        {
          "output_type": "stream",
          "name": "stdout",
          "text": [
            "Answer:\n",
            " The provided lab report does not offer a diagnosis.  It shows the results of various tests, some of which show values outside the normal range (e.g., elevated ESR).  However, these results alone are insufficient to establish a diagnosis.  A doctor would interpret these results in the context of the patient's symptoms, medical history, and physical examination to arrive at a diagnosis.\n",
            "\n"
          ]
        }
      ]
    },
    {
      "cell_type": "code",
      "source": [],
      "metadata": {
        "id": "fMtn0XIJXlgu"
      },
      "execution_count": null,
      "outputs": []
    }
  ]
}